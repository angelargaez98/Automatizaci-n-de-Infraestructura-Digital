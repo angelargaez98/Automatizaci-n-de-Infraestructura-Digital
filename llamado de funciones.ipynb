{
 "cells": [
  {
   "cell_type": "code",
   "execution_count": 6,
   "metadata": {},
   "outputs": [
    {
     "name": "stdout",
     "output_type": "stream",
     "text": [
      "has llamado ala funcion 1\n"
     ]
    }
   ],
   "source": [
    "#llamamos las funciones decaradas en aotroarchivo\n",
    "import sys\n",
    "sys.path.append('C:descargas/funcionesexterna.ipynb')\n",
    "import funcionesexterna as F \n",
    "F.funcion1 ()\n"
   ]
  },
  {
   "cell_type": "code",
   "execution_count": 7,
   "metadata": {},
   "outputs": [
    {
     "name": "stdout",
     "output_type": "stream",
     "text": [
      "has llamado ala funcion 1\n",
      "introduzca un dato:9\n",
      "introduzca un datos:8\n",
      "17\n"
     ]
    }
   ],
   "source": [
    "import sys \n",
    "import funcionesexterna as F\n",
    "F.funcion1 ()\n",
    "#llamamos las funciones decaradas en aotroarchivo\n",
    "q = input('introduzca un dato:')\n",
    "w = input('introduzca un datos:')\n",
    "print (F.funcion2 (q,w))\n"
   ]
  }
 ],
 "metadata": {
  "kernelspec": {
   "display_name": "Python 3",
   "language": "python",
   "name": "python3"
  },
  "language_info": {
   "codemirror_mode": {
    "name": "ipython",
    "version": 3
   },
   "file_extension": ".py",
   "mimetype": "text/x-python",
   "name": "python",
   "nbconvert_exporter": "python",
   "pygments_lexer": "ipython3",
   "version": "3.7.4"
  }
 },
 "nbformat": 4,
 "nbformat_minor": 2
}
