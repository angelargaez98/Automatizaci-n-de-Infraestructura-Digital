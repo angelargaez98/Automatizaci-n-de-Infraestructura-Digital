{
  "nbformat": 4,
  "nbformat_minor": 0,
  "metadata": {
    "colab": {
      "name": "Examen 2.ipynb",
      "provenance": [],
      "authorship_tag": "ABX9TyPMVL5/4Ht9gxQREN9nm1lM",
      "include_colab_link": true
    },
    "kernelspec": {
      "name": "python3",
      "display_name": "Python 3"
    },
    "language_info": {
      "name": "python"
    }
  },
  "cells": [
    {
      "cell_type": "markdown",
      "metadata": {
        "id": "view-in-github",
        "colab_type": "text"
      },
      "source": [
        "<a href=\"https://colab.research.google.com/github/angelargaez98/Automatizaci-n-de-Infraestructura-Digital/blob/main/Examen_2.ipynb\" target=\"_parent\"><img src=\"https://colab.research.google.com/assets/colab-badge.svg\" alt=\"Open In Colab\"/></a>"
      ]
    },
    {
      "cell_type": "markdown",
      "metadata": {
        "id": "30dOEVLBJhgq"
      },
      "source": [
        "# Examen parcial 2"
      ]
    },
    {
      "cell_type": "markdown",
      "metadata": {
        "id": "GPdyl5l6Fer5"
      },
      "source": [
        "# parte 1\n",
        "### Crear un DataFrame con las siguientes columnas"
      ]
    },
    {
      "cell_type": "code",
      "metadata": {
        "colab": {
          "base_uri": "https://localhost:8080/"
        },
        "id": "5Zuonfq7-Z-v",
        "outputId": "a18e1470-e73b-4ec9-8b24-0ff17d310be2"
      },
      "source": [
        "import pandas as pd\n",
        "import matplotlib.pyplot as plt\n",
        "\n",
        "dat = {\n",
        "  'Nombre': ['juan', 'marta', 'pedro', 'jorge', 'blas', 'lisa', 'antonio'],\n",
        "  'Edad': [23, 78, 22, 19, 45, 33, 20],\n",
        "  'Género': ['M', 'F', 'M', 'M', 'M', 'F', 'M'],\n",
        "  'Provincia': ['murgos', 'madrid', 'moledo', 'murgos', 'madrid', 'moledo', 'madrid'],\n",
        "  'Hijos': [2, 0, 0, 3, 2, 1, 4],\n",
        "  'Mascotas': [5, 1, 0, 5, 2, 2, 3]\n",
        "}\n",
        "\n",
        "tabla = pd.DataFrame(dat)\n",
        "print(tabla)"
      ],
      "execution_count": 34,
      "outputs": [
        {
          "output_type": "stream",
          "text": [
            "    Nombre  Edad Género Provincia  Hijos  Mascotas\n",
            "0     juan    23      M    murgos      2         5\n",
            "1    marta    78      F    madrid      0         1\n",
            "2    pedro    22      M    moledo      0         0\n",
            "3    jorge    19      M    murgos      3         5\n",
            "4     blas    45      M    madrid      2         2\n",
            "5     lisa    33      F    moledo      1         2\n",
            "6  antonio    20      M    madrid      4         3\n"
          ],
          "name": "stdout"
        }
      ]
    },
    {
      "cell_type": "markdown",
      "metadata": {
        "id": "4yWZ5uaQFul5"
      },
      "source": [
        "# parte 2 \n",
        "### Motrar la información básica del DataFrame."
      ]
    },
    {
      "cell_type": "code",
      "metadata": {
        "colab": {
          "base_uri": "https://localhost:8080/"
        },
        "id": "xylQWm1VFuFA",
        "outputId": "3c4fc8dc-1c59-4f30-e652-213654eefe19"
      },
      "source": [
        "print(tabla.info())"
      ],
      "execution_count": 35,
      "outputs": [
        {
          "output_type": "stream",
          "text": [
            "<class 'pandas.core.frame.DataFrame'>\n",
            "RangeIndex: 7 entries, 0 to 6\n",
            "Data columns (total 6 columns):\n",
            " #   Column     Non-Null Count  Dtype \n",
            "---  ------     --------------  ----- \n",
            " 0   Nombre     7 non-null      object\n",
            " 1   Edad       7 non-null      int64 \n",
            " 2   Género     7 non-null      object\n",
            " 3   Provincia  7 non-null      object\n",
            " 4   Hijos      7 non-null      int64 \n",
            " 5   Mascotas   7 non-null      int64 \n",
            "dtypes: int64(3), object(3)\n",
            "memory usage: 464.0+ bytes\n",
            "None\n"
          ],
          "name": "stdout"
        }
      ]
    },
    {
      "cell_type": "markdown",
      "metadata": {
        "id": "67llTkYVF2fc"
      },
      "source": [
        "# parte 3\n",
        "### Obtener los principales estadísticos de las columnas numéricas.\n"
      ]
    },
    {
      "cell_type": "code",
      "metadata": {
        "colab": {
          "base_uri": "https://localhost:8080/"
        },
        "id": "iwqCAFVBF2LQ",
        "outputId": "c8da07c5-8920-4e6e-c9c6-c8b1c5c7784e"
      },
      "source": [
        "print(tabla.describe())"
      ],
      "execution_count": 36,
      "outputs": [
        {
          "output_type": "stream",
          "text": [
            "            Edad     Hijos  Mascotas\n",
            "count   7.000000  7.000000  7.000000\n",
            "mean   34.285714  1.714286  2.571429\n",
            "std    21.383126  1.496026  1.902379\n",
            "min    19.000000  0.000000  0.000000\n",
            "25%    21.000000  0.500000  1.500000\n",
            "50%    23.000000  2.000000  2.000000\n",
            "75%    39.000000  2.500000  4.000000\n",
            "max    78.000000  4.000000  5.000000\n"
          ],
          "name": "stdout"
        }
      ]
    },
    {
      "cell_type": "markdown",
      "metadata": {
        "id": "ZUZ2VR8vGSdF"
      },
      "source": [
        "# parte 4\n",
        "### Porcentaje de hombres y mujeres por provincias"
      ]
    },
    {
      "cell_type": "code",
      "metadata": {
        "colab": {
          "base_uri": "https://localhost:8080/"
        },
        "id": "s1KQaSZoGQlB",
        "outputId": "ad8287f6-1877-4ba5-9607-7b0ec1fc5123"
      },
      "source": [
        "print(tabla.groupby('Provincia').Género.value_counts(normalize = True) * 100)"
      ],
      "execution_count": 37,
      "outputs": [
        {
          "output_type": "stream",
          "text": [
            "Provincia  Género\n",
            "madrid     M          66.666667\n",
            "           F          33.333333\n",
            "moledo     F          50.000000\n",
            "           M          50.000000\n",
            "murgos     M         100.000000\n",
            "Name: Género, dtype: float64\n"
          ],
          "name": "stdout"
        }
      ]
    },
    {
      "cell_type": "code",
      "metadata": {
        "id": "j9jbr74VGhFz"
      },
      "source": [
        ""
      ],
      "execution_count": null,
      "outputs": []
    },
    {
      "cell_type": "markdown",
      "metadata": {
        "id": "0Gg4gOfSGmSR"
      },
      "source": [
        "# parte 5\n",
        "###Representar, mediante un diagrama de dispersión, en número de hijos frente al número de mascotas para las personas de Madrid."
      ]
    },
    {
      "cell_type": "code",
      "metadata": {
        "colab": {
          "base_uri": "https://localhost:8080/",
          "height": 279
        },
        "id": "wOwJuqu9GrNZ",
        "outputId": "7d6114e6-d95b-4ef9-b911-c15ff0c407df"
      },
      "source": [
        "fig, ax = plt.subplots()\n",
        "df[df.Provincia == 'Madrid'].plot(kind = 'scatter', x = 'Hijos', y = 'Mascotas', ax = ax)\n",
        "plt.show()"
      ],
      "execution_count": 38,
      "outputs": [
        {
          "output_type": "display_data",
          "data": {
            "image/png": "[encoded data removed]",
            "text/plain": [
              "<Figure size 432x288 with 1 Axes>"
            ]
          },
          "metadata": {
            "tags": [],
            "needs_background": "light"
          }
        }
      ]
    },
    {
      "cell_type": "markdown",
      "metadata": {
        "id": "TXMqBjG8GxBI"
      },
      "source": [
        "#parte 6\n",
        "###Realizar la siguiente gráfica."
      ]
    },
    {
      "cell_type": "code",
      "metadata": {
        "colab": {
          "base_uri": "https://localhost:8080/",
          "height": 323
        },
        "id": "WrDdqJ7jG2_T",
        "outputId": "84ab732d-c1ac-426e-cfd9-ccceb99b77d4"
      },
      "source": [
        "\n",
        "fig, ax = plt.subplots()\n",
        "tabla.groupby('Provincia').size().plot(kind = 'bar')\n",
        "plt.title('Grafica dd distribución de frecuencias por provincia')\n",
        "plt.show()"
      ],
      "execution_count": 40,
      "outputs": [
        {
          "output_type": "display_data",
          "data": {
            "image/png": "[encoded data removed]",
            "text/plain": [
              "<Figure size 432x288 with 1 Axes>"
            ]
          },
          "metadata": {
            "tags": [],
            "needs_background": "light"
          }
        }
      ]
    },
    {
      "cell_type": "code",
      "metadata": {
        "id": "WpbNnEiWKAF4"
      },
      "source": [
        ""
      ],
      "execution_count": 29,
      "outputs": []
    }
  ]
}