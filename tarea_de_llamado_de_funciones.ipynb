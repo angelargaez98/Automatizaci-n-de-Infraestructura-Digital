{
  "nbformat": 4,
  "nbformat_minor": 0,
  "metadata": {
    "colab": {
      "name": "tarea-de-lalmado-de-funciones.py",
      "provenance": [],
      "authorship_tag": "ABX9TyOeuthY1aB0p5cBTUZY3TXC",
      "include_colab_link": true
    },
    "kernelspec": {
      "name": "python3",
      "display_name": "Python 3"
    },
    "language_info": {
      "name": "python"
    }
  },
  "cells": [
    {
      "cell_type": "markdown",
      "metadata": {
        "id": "view-in-github",
        "colab_type": "text"
      },
      "source": [
        "<a href=\"https://colab.research.google.com/github/angelargaez98/Automatizaci-n-de-Infraestructura-Digital/blob/main/tarea_de_llamado_de_funciones.ipynb\" target=\"_parent\"><img src=\"https://colab.research.google.com/assets/colab-badge.svg\" alt=\"Open In Colab\"/></a>"
      ]
    },
    {
      "cell_type": "code",
      "metadata": {
        "id": "fN8xfprprM2w"
      },
      "source": [
        "def funcion1 ():\n",
        "\n",
        "    print('has llamado ala funcion 1')\n",
        "    \n"
      ],
      "execution_count": null,
      "outputs": []
    },
    {
      "cell_type": "code",
      "metadata": {
        "id": "pGZBjKUnu0Qz"
      },
      "source": [
        "def funcion2 (a,b):\n",
        "    #contenido de la funcion\n",
        "    c = int(a) + int (b)\n",
        "    return c"
      ],
      "execution_count": null,
      "outputs": []
    },
    {
      "cell_type": "code",
      "metadata": {
        "colab": {
          "base_uri": "https://localhost:8080/"
        },
        "id": "f9t3Hwv2ZFU0",
        "outputId": "d743cab8-78d0-43d4-ca58-56fe79fd47bf"
      },
      "source": [
        "#llamado de funcion\n",
        "funcion1 ()\n",
        "#llamamos las funciones y paso de parametros \n",
        "q = input('introduzca un dato:')\n",
        "w = input('introduzca un datos:')\n",
        "print (funcion2 (q,w))"
      ],
      "execution_count": null,
      "outputs": [
        {
          "output_type": "stream",
          "text": [
            "has llamado ala funcion 1\n",
            "introduzca un dato:8\n",
            "introduzca un datos:9\n",
            "17\n"
          ],
          "name": "stdout"
        }
      ]
    },
    {
      "cell_type": "code",
      "metadata": {
        "id": "5_pPSM55ZI5k"
      },
      "source": [
        ""
      ],
      "execution_count": null,
      "outputs": []
    },
    {
      "cell_type": "code",
      "metadata": {
        "id": "UgT8ieQ1ZFhD"
      },
      "source": [
        ""
      ],
      "execution_count": null,
      "outputs": []
    }
  ]
}