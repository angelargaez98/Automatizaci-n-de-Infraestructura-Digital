{
 "cells": [
  {
   "cell_type": "markdown",
   "metadata": {},
   "source": [
    "# ejercicio 1 \n",
    "Escribir un programa que acceda a un fichero de internet mediante su url y muestre por pantalla el número de palabras que contiene."
   ]
  },
  {
   "cell_type": "code",
   "execution_count": 3,
   "metadata": {},
   "outputs": [
    {
     "name": "stdout",
     "output_type": "stream",
     "text": [
      "389719\n",
      "Esta URL https://no-existe.txt No existe \n"
     ]
    }
   ],
   "source": [
    "def fichero(url):\n",
    "    from urllib import request\n",
    "    from urllib.error import URLError\n",
    "    try:\n",
    "        archivo = request.urlopen(url)\n",
    "    except URLError:\n",
    "        return('Esta URL ' + url + ' No existe')\n",
    "    else:\n",
    "        contenido = archivo.read()\n",
    "        return len(contenido.split())\n",
    "\n",
    "print(fichero('https://www.gutenberg.org/files/2000/2000-0.txt'))\n",
    "print(fichero('https://no-existe.txt'))"
   ]
  },
  {
   "cell_type": "markdown",
   "metadata": {},
   "source": [
    "# ejercicio 2\n",
    "Escribir un programa que abra el fichero con información sobre el PIB per cápita de los países de la Unión Europea (url:https://ec.europa.eu/eurostat/estat-navtree-portlet-prod/BulkDownloadListing?file=data/sdg_08_10.tsv.gz&unzip=true), pregunte por las iniciales de un país y muestre el PIB per cápita de ese país de todos los años disponibles."
   ]
  },
  {
   "cell_type": "code",
   "execution_count": 7,
   "metadata": {},
   "outputs": [
    {
     "name": "stdout",
     "output_type": "stream",
     "text": [
      "Introduce el código de un país: 67\n",
      "Producto Interior Bruto per cápita de 67\n",
      "Año \t PIB\n",
      "2000 \t 21460\n",
      "2001 \t 22190\n",
      "2002 \t 22430\n",
      "2003 \t 22680\n",
      "2004 \t 23020\n",
      "2005 \t 23420\n",
      "2006 \t 24000\n",
      "2007 \t 24380\n",
      "2008 \t 24200\n",
      "2009 \t 23100\n",
      "2010 \t 23040\n",
      "2011 \t 22770\n",
      "2012 \t 22080\n",
      "2013 \t 21840\n",
      "2014 \t 22210\n",
      "2015 \t 23080\n",
      "2016 \t 23760\n",
      "2017 \t 24430\n",
      "2018 \t 24910 p\n",
      "2019 \t 25200 p\n",
      "2020 \t 22350 p\n"
     ]
    }
   ],
   "source": [
    "def pib(url, country='ES'):\n",
    "    from urllib import request\n",
    "    from urllib.error import URLError\n",
    "    try:\n",
    "        fuente = request.urlopen(url)\n",
    "    except URLError:\n",
    "        return('¡La url ' + url + ' no existe!')\n",
    "    else:\n",
    "        dato = fuente.read().decode('utf-8').split('\\n') # Leer los datos y guardar cada línea en una lista\n",
    "        dato = [i.split('\\t') for i in dato] # Dividir cada línea por el tabulador\n",
    "        dato = [list(map(str.strip, i)) for i in dato] # Eliminar espacios en blanco\n",
    "        for i in dato:\n",
    "            i[0] = i[0].split(',')[-1] # Obtener el código del país del primer elemento de la lista\n",
    "        dato[0][0] = 'years'\n",
    "        dato = {i[0]:i[1:] for i in dato}\n",
    "        resultado = {dato['years'][i]:dato[country][i] for i in range(len(dato['years']))}\n",
    "        return resultado\n",
    "\n",
    "country = input('Introduce el código de un país: ')\n",
    "print('Producto Interior Bruto per cápita de', country)\n",
    "print('Año', '\\t', 'PIB')\n",
    "for year, pib2 in pib('https://ec.europa.eu/eurostat/estat-navtree-portlet-prod/BulkDownloadListing?file=data/sdg_08_10.tsv.gz&unzip=true').items():\n",
    "    print(year, '\\t', pib2)"
   ]
  },
  {
   "cell_type": "markdown",
   "metadata": {},
   "source": [
    "# ejercicio 3\n",
    "Escribir un programa para gestionar un listín telefónico con los nombres y los teléfonos de los clientes de una empresa. El programa incorporarfunciones crear el fichero con el listín si no existe, para consultar el teléfono de un cliente, añadir el teléfono de un nuevo cliente y eliminar el teléfono de un cliente. El listín debe estar guardado en el fichero de texto listin.txtdonde el nombre del cliente y su teléfono deben aparecer separados por comas y cada cliente en una línea distinta."
   ]
  },
  {
   "cell_type": "code",
   "execution_count": 1,
   "metadata": {},
   "outputs": [],
   "source": [
    "def telefono(archivo, cliente):\n",
    "\n",
    "    try: \n",
    "        f = open(archivo, 'r')\n",
    "    except FileNotFoundError:\n",
    "        return('Este es el fichero ' + archivo + ' no existe!\\n')\n",
    "    else:\n",
    "        directory = f.readlines()\n",
    "        f.close()\n",
    "        directory = dict([tuple(line.split(',')) for line in directory])\n",
    "        if cliente in directory:\n",
    "            return directory[cliente]\n",
    "        else:\n",
    "            return('¡el cliente es ' + cliente + ' no existe!\\n')\n",
    "\n",
    "\n",
    "def anadir_telefono(archivo, cliente, telfono):\n",
    "\n",
    "    try: \n",
    "        f = open(archivo, 'a')\n",
    "    except FileNotFoundError:\n",
    "        return('¡EL Fichero es ' + archivo + ' no existe!\\n')\n",
    "    else:\n",
    "        f.write(cliente + ',' + telfono + '\\n')\n",
    "        f.close()\n",
    "        return('ya tiene en sus contacto el telefono.\\n')\n",
    "\n",
    "def remover_cel(archivo, cliente):\n",
    "\n",
    "    try: \n",
    "        f = open(archivo, 'r')\n",
    "    except FileNotFoundError:\n",
    "        return('Es fichero ' + archivo + ' no existe!\\n')\n",
    "    else:\n",
    "        directory = f.readlines()\n",
    "        f.close()\n",
    "        directory = dict([tuple(line.split(',')) for line in directory])\n",
    "        if client in directory:\n",
    "            del directory[cliente]\n",
    "            f = open(archivo, 'w')\n",
    "            for name, telfono in directory.items():\n",
    "                f.write(name + ',' + telfono)\n",
    "            f.close()\n",
    "            return ('¡El cliente se ha borrado!\\n')\n",
    "        else:\n",
    "            return('¡Este contacto ' + cliente + ' no existe!\\n')\n",
    "\n",
    "\n",
    "def crear_directorio(archivo):\n",
    "\n",
    "    import os\n",
    "    if os.path.isfile(archivo):\n",
    "        answer = input('El fichero ' + archivo + ' ya existe. ¿Desea vaciarlo (S/N)? ')\n",
    "        if answer == 'N': \n",
    "            return 'No se ha creado el fichero porque ya existe.\\n'\n",
    "    f = open(archivo, 'w')\n",
    "    f.close()\n",
    "    return 'Se ha creado el fichero.\\n'\n",
    "     \n",
    "\n",
    "def menu():\n",
    "\n",
    "    print('Lista de Contactos')\n",
    "    print(\"\")\n",
    "    print('1 - Consultar un nombre y teléfono')\n",
    "    print('2 - Añadir un nombre y teléfono')\n",
    "    print('3 - Eliminar un nombre y teléfono')\n",
    "    print('4 - vaciar lista de contactos')\n",
    "    print('0 - Terminar')\n",
    "    option = input('Introduzca el número de la opción deseada: ')\n",
    "    return option\n",
    "\n",
    "\n",
    "def directory():\n",
    "    archivo = 'contacto.txt' \n",
    "    while True:\n",
    "        option = menu()\n",
    "        if option == '1':\n",
    "            name = input('Digite el nombre del cliente: ')\n",
    "            print(telefono(archivo, name))\n",
    "        elif option == '2':\n",
    "            name = input('Digite el nombre del cliente: ')\n",
    "            telf = input('Digite el teléfono del cliente: ')\n",
    "            print(anadir_telefono(archivo, name, telf))\n",
    "        elif option == '3':\n",
    "            name = input('Digite el nombre del cliente: ')\n",
    "            print(remover_celular(archivo, name))\n",
    "        elif option == '4':\n",
    "            print(crear_directorio(archivo))\n",
    "        else:\n",
    "            break\n",
    "    return"
   ]
  },
  {
   "cell_type": "code",
   "execution_count": 2,
   "metadata": {},
   "outputs": [
    {
     "name": "stdout",
     "output_type": "stream",
     "text": [
      "Lista de Contactos\n",
      "\n",
      "1 - Consultar un nombre y teléfono\n",
      "2 - Añadir un nombre y teléfono\n",
      "3 - Eliminar un nombre y teléfono\n",
      "4 - vaciar lista de contactos\n",
      "0 - Terminar\n",
      "Introduzca el número de la opción deseada: 1\n",
      "Digite el nombre del cliente: argaez\n",
      "¡el cliente es argaez no existe!\n",
      "\n",
      "Lista de Contactos\n",
      "\n",
      "1 - Consultar un nombre y teléfono\n",
      "2 - Añadir un nombre y teléfono\n",
      "3 - Eliminar un nombre y teléfono\n",
      "4 - vaciar lista de contactos\n",
      "0 - Terminar\n",
      "Introduzca el número de la opción deseada: 2\n",
      "Digite el nombre del cliente: argaez\n",
      "Digite el teléfono del cliente: 9993530881\n",
      "ya tiene en sus contacto el telefono.\n",
      "\n",
      "Lista de Contactos\n",
      "\n",
      "1 - Consultar un nombre y teléfono\n",
      "2 - Añadir un nombre y teléfono\n",
      "3 - Eliminar un nombre y teléfono\n",
      "4 - vaciar lista de contactos\n",
      "0 - Terminar\n",
      "Introduzca el número de la opción deseada: 1\n",
      "Digite el nombre del cliente: argaez\n",
      "9993530881\n",
      "\n",
      "Lista de Contactos\n",
      "\n",
      "1 - Consultar un nombre y teléfono\n",
      "2 - Añadir un nombre y teléfono\n",
      "3 - Eliminar un nombre y teléfono\n",
      "4 - vaciar lista de contactos\n",
      "0 - Terminar\n",
      "Introduzca el número de la opción deseada: 4\n",
      "El fichero contacto.txt ya existe. ¿Desea vaciarlo (S/N)? s\n",
      "Se ha creado el fichero.\n",
      "\n",
      "Lista de Contactos\n",
      "\n",
      "1 - Consultar un nombre y teléfono\n",
      "2 - Añadir un nombre y teléfono\n",
      "3 - Eliminar un nombre y teléfono\n",
      "4 - vaciar lista de contactos\n",
      "0 - Terminar\n",
      "Introduzca el número de la opción deseada: 1\n",
      "Digite el nombre del cliente: argaez\n",
      "¡el cliente es argaez no existe!\n",
      "\n",
      "Lista de Contactos\n",
      "\n",
      "1 - Consultar un nombre y teléfono\n",
      "2 - Añadir un nombre y teléfono\n",
      "3 - Eliminar un nombre y teléfono\n",
      "4 - vaciar lista de contactos\n",
      "0 - Terminar\n",
      "Introduzca el número de la opción deseada: 0\n"
     ]
    }
   ],
   "source": [
    "directory()"
   ]
  },
  {
   "cell_type": "markdown",
   "metadata": {},
   "source": [
    "# ejercicio 4\n",
    "Escribir una función que aplique un descuento a un precio y otra que aplique el IVA a un precio. Escribir una tercera función que reciba un diccionario con los precios y porcentajes de una cesta de la compra, y una de las funciones anteriores, y utilice la función pasada para aplicar los descuentos o el IVA a los productos de la cesta y devolver el precio final de la cesta."
   ]
  },
  {
   "cell_type": "code",
   "execution_count": 15,
   "metadata": {},
   "outputs": [
    {
     "name": "stdout",
     "output_type": "stream",
     "text": [
      "el precio de la compra con el descuentos es:  5570.0\n",
      "el precio de la compra aplicar el IVA es:  9882.199999999999\n"
     ]
    }
   ],
   "source": [
    "def decuento(pre, des):\n",
    "   \n",
    "    return pre - pre * des / 100\n",
    "    \n",
    "def iva(pre, porcen):\n",
    "    \n",
    "    return pre + pre * porcen / 100\n",
    "\n",
    "def real(bas, fun):\n",
    "    \n",
    "    total = 0\n",
    "    for pre, des in bas.items():\n",
    "        total += fun(pre, des)\n",
    "    return total\n",
    "\n",
    "print('el precio de la compra con el descuentos es: ', real({100:20, 5000:10, 1000:1}, decuento))\n",
    "print('el precio de la compra aplicar el IVA es: ', real({1087:20, 5980:10, 1980:1}, iva))"
   ]
  },
  {
   "cell_type": "markdown",
   "metadata": {},
   "source": [
    "# ejercicio 5\n",
    "Escribir una función que simule una calculadora científica que permita calcular el seno, coseno, tangente, exponencial y logaritmo neperiano. La función preguntará al usuario el valor y la función a aplicar, y mostrará por pantalla una tabla con los enteros de 1 al valor introducido y el resultado de aplicar la función a esos enteros."
   ]
  },
  {
   "cell_type": "code",
   "execution_count": 17,
   "metadata": {},
   "outputs": [
    {
     "name": "stdout",
     "output_type": "stream",
     "text": [
      "Digite un numero positivo: 76\n",
      "aplique cualquier funcion (sin, cos, tan, exp, log): sin\n",
      "1 \t 0.8414709848078965\n",
      "2 \t 0.9092974268256817\n",
      "3 \t 0.1411200080598672\n",
      "4 \t -0.7568024953079282\n",
      "5 \t -0.9589242746631385\n",
      "6 \t -0.27941549819892586\n",
      "7 \t 0.6569865987187891\n",
      "8 \t 0.9893582466233818\n",
      "9 \t 0.4121184852417566\n",
      "10 \t -0.5440211108893698\n",
      "11 \t -0.9999902065507035\n",
      "12 \t -0.5365729180004349\n",
      "13 \t 0.4201670368266409\n",
      "14 \t 0.9906073556948704\n",
      "15 \t 0.6502878401571168\n",
      "16 \t -0.2879033166650653\n",
      "17 \t -0.9613974918795568\n",
      "18 \t -0.7509872467716762\n",
      "19 \t 0.14987720966295234\n",
      "20 \t 0.9129452507276277\n",
      "21 \t 0.8366556385360561\n",
      "22 \t -0.008851309290403876\n",
      "23 \t -0.8462204041751706\n",
      "24 \t -0.9055783620066238\n",
      "25 \t -0.13235175009777303\n",
      "26 \t 0.7625584504796027\n",
      "27 \t 0.956375928404503\n",
      "28 \t 0.27090578830786904\n",
      "29 \t -0.6636338842129675\n",
      "30 \t -0.9880316240928618\n",
      "31 \t -0.404037645323065\n",
      "32 \t 0.5514266812416906\n",
      "33 \t 0.9999118601072672\n",
      "34 \t 0.5290826861200238\n",
      "35 \t -0.428182669496151\n",
      "36 \t -0.9917788534431158\n",
      "37 \t -0.6435381333569995\n",
      "38 \t 0.2963685787093853\n",
      "39 \t 0.9637953862840878\n",
      "40 \t 0.7451131604793488\n",
      "41 \t -0.158622668804709\n",
      "42 \t -0.9165215479156338\n",
      "43 \t -0.8317747426285983\n",
      "44 \t 0.017701925105413577\n",
      "45 \t 0.8509035245341184\n",
      "46 \t 0.9017883476488092\n",
      "47 \t 0.123573122745224\n",
      "48 \t -0.7682546613236668\n",
      "49 \t -0.9537526527594719\n",
      "50 \t -0.26237485370392877\n",
      "51 \t 0.6702291758433747\n",
      "52 \t 0.9866275920404853\n",
      "53 \t 0.39592515018183416\n",
      "54 \t -0.5587890488516163\n",
      "55 \t -0.9997551733586199\n",
      "56 \t -0.5215510020869119\n",
      "57 \t 0.43616475524782494\n",
      "58 \t 0.9928726480845371\n",
      "59 \t 0.6367380071391379\n",
      "60 \t -0.3048106211022167\n",
      "61 \t -0.9661177700083929\n",
      "62 \t -0.7391806966492228\n",
      "63 \t 0.16735570030280691\n",
      "64 \t 0.9200260381967907\n",
      "65 \t 0.8268286794901034\n",
      "66 \t -0.026551154023966794\n",
      "67 \t -0.8555199789753223\n",
      "68 \t -0.8979276806892913\n",
      "69 \t -0.11478481378318722\n",
      "70 \t 0.7738906815578891\n",
      "71 \t 0.9510546532543747\n",
      "72 \t 0.25382336276203626\n",
      "73 \t -0.6767719568873076\n",
      "74 \t -0.9851462604682474\n",
      "75 \t -0.38778163540943045\n",
      "76 \t 0.5661076368981803\n"
     ]
    }
   ],
   "source": [
    "from math import sin, cos, tan, exp, log\n",
    "\n",
    "def funcion(f, n):\n",
    "    functions = {'sin':sin, 'cos':cos, 'tan':tan, 'exp':exp, 'log':log}\n",
    "    resultado = {}\n",
    "    for i in range(1, n+1):\n",
    "        resultado[i] = functions[f](i)\n",
    "    return resultado\n",
    "\n",
    "def calcu():\n",
    "    n = int(input('Digite un numero positivo: '))\n",
    "    f = input('aplique cualquier funcion (sin, cos, tan, exp, log): ')\n",
    "    for i, j in funcion(f, n).items():\n",
    "        print (i, '\\t', j)\n",
    "    return\n",
    "\n",
    "calcu()"
   ]
  },
  {
   "cell_type": "markdown",
   "metadata": {},
   "source": [
    "# ejercicio 6\n",
    "Escribir una función reciba una lista de notas y devuelva la lista de calificaciones correspondientes \n",
    "a esas notas"
   ]
  },
  {
   "cell_type": "code",
   "execution_count": 3,
   "metadata": {},
   "outputs": [],
   "source": [
    "def funcion(punto):\n",
    "    \n",
    "    if punto < 5:\n",
    "        return 'SS'\n",
    "    elif punto < 7:\n",
    "        return 'AP'\n",
    "    elif punto < 9:\n",
    "        return 'NT'\n",
    "    elif punto < 10:\n",
    "        return 'SB'\n",
    "    else:\n",
    "        return 'MH'\n",
    "\n",
    "def apli(puntos):\n",
    "   \n",
    "    return list(map(funcion, puntos))"
   ]
  },
  {
   "cell_type": "code",
   "execution_count": 4,
   "metadata": {},
   "outputs": [
    {
     "name": "stdout",
     "output_type": "stream",
     "text": [
      "Ingresa un valor real entre 0 y 10: 7\n",
      "['AP', 'AP', 'SS', 'NT', 'SS', 'SB', 'MH']\n"
     ]
    }
   ],
   "source": [
    "\n",
    "puntos = int(input(\"Ingresa un valor real entre 0 y 10: \"))\n",
    "\n",
    "print(apli([6.5, 5, 3.4, 8.2, 2.1, 9.7, 10]))\n",
    "\n"
   ]
  },
  {
   "cell_type": "markdown",
   "metadata": {},
   "source": [
    "# ejercicio 7\n",
    "correcion"
   ]
  },
  {
   "cell_type": "code",
   "execution_count": 2,
   "metadata": {},
   "outputs": [
    {
     "name": "stdout",
     "output_type": "stream",
     "text": [
      "Introduce la contraseña:sesamo\n",
      "Pasa\n"
     ]
    }
   ],
   "source": [
    "contraseña = input('Introduce la contraseña:')\n",
    "if contraseña in ['sesamo']:\n",
    "    print('Pasa')\n",
    "else:\n",
    "    print('No pasa')"
   ]
  },
  {
   "cell_type": "markdown",
   "metadata": {},
   "source": [
    "# ejercicio 8"
   ]
  },
  {
   "cell_type": "code",
   "execution_count": 8,
   "metadata": {},
   "outputs": [
    {
     "name": "stdout",
     "output_type": "stream",
     "text": [
      "Introduce la base imponible de la factura: 87\n",
      "100.92\n"
     ]
    }
   ],
   "source": [
    "base = int(input('Introduce la base imponible de la factura: '))\n",
    "\n",
    "def funcion_iva(base, iva = 16):\n",
    "    base += base * iva / 100  \n",
    "    return base \n",
    "print(funcion_iva(base))\n",
    "    "
   ]
  },
  {
   "cell_type": "markdown",
   "metadata": {},
   "source": [
    "# ejercicio 9"
   ]
  },
  {
   "cell_type": "code",
   "execution_count": 5,
   "metadata": {},
   "outputs": [
    {
     "name": "stdout",
     "output_type": "stream",
     "text": [
      "((5190, 5923), (14084, 11676))\n"
     ]
    }
   ],
   "source": [
    "a = ((10, 26, 67),\n",
    "     (93, 82, 61))\n",
    "b = ((90, 45),\n",
    "     (31, 43),\n",
    "     (52, 65))\n",
    "\n",
    "def pro(a, b):\n",
    "    pro = []\n",
    "    for i in range(len(a)):\n",
    "        fila = [] \n",
    "        for j in range(len(b[0])):\n",
    "            suma = 0\n",
    "            for k in range(len(a[0])):\n",
    "                suma += a[i][k] * b[k][j]\n",
    "            fila.append(suma)\n",
    "        pro.append(tuple(fila))\n",
    "    return tuple(pro)\n",
    "\n",
    "print(pro(a, b))"
   ]
  },
  {
   "cell_type": "markdown",
   "metadata": {},
   "source": [
    "# ejercicio 10\n",
    "correcones "
   ]
  },
  {
   "cell_type": "code",
   "execution_count": 6,
   "metadata": {},
   "outputs": [
    {
     "name": "stdout",
     "output_type": "stream",
     "text": [
      "32\n"
     ]
    }
   ],
   "source": [
    "u = [1, 2, 3]\n",
    "v = [4, 5, 6]\n",
    "\n",
    "def producto_escalar(u, v):\n",
    "    for i in range(len(u)):\n",
    "        u[i] *= v[i]\n",
    "    return sum(u)\n",
    "\n",
    "print(producto_escalar(u, v))"
   ]
  }
 ],
 "metadata": {
  "kernelspec": {
   "display_name": "Python 3",
   "language": "python",
   "name": "python3"
  },
  "language_info": {
   "codemirror_mode": {
    "name": "ipython",
    "version": 3
   },
   "file_extension": ".py",
   "mimetype": "text/x-python",
   "name": "python",
   "nbconvert_exporter": "python",
   "pygments_lexer": "ipython3",
   "version": "3.7.4"
  }
 },
 "nbformat": 4,
 "nbformat_minor": 2
}
