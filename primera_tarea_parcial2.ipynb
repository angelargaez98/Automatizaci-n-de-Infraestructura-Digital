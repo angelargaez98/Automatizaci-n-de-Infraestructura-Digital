{
 "cells": [
  {
   "cell_type": "markdown",
   "metadata": {},
   "source": [
    "# ejercicio 1\n",
    "\n",
    "Escribir una función que calcule el total de una factura tras aplicarle el IVA. La función debe recibir la cantidad sin IVA y el porcentaje de IVA a aplicar, y devolver el total de la factura. Si se invoca la función sin pasarle el porcentaje de IVA, deberá aplicar un 21%."
   ]
  },
  {
   "cell_type": "code",
   "execution_count": 22,
   "metadata": {},
   "outputs": [],
   "source": [
    "def factura(cant,iva):\n",
    "  total = cant*int(iva)/100\n",
    "  total2 = cant + total\n",
    "  \n",
    "  return total2\n"
   ]
  },
  {
   "cell_type": "code",
   "execution_count": 23,
   "metadata": {},
   "outputs": [
    {
     "name": "stdout",
     "output_type": "stream",
     "text": [
      "Calcula el iva\n",
      "Digita la cantidad a faturar: 700\n",
      "ponga el iba o solo le de enter y se agregara un iva de 21%: 10\n",
      "\n",
      "el iva agregado es 10% el Total es:$770.0\n"
     ]
    }
   ],
   "source": [
    "print(\"Calcula el iva\")\n",
    "cant = int(input(\"Digita la cantidad a faturar: \"))\n",
    "iva = input(\"ponga el iba o solo le de enter y se agregara un iva de 21%: \")\n",
    "print(\"\")\n",
    "if iva == \"\":\n",
    "    iva = 21\n",
    "factura(cant,iva)\n",
    "print(f\"el iva agregado es {iva}% el Total es:${factura(cant,iva)}\")\n",
    "\n"
   ]
  },
  {
   "cell_type": "markdown",
   "metadata": {},
   "source": [
    "# Ejercicio 2\n",
    "\n",
    "Escribir una función que calcule el área de un círculo y otra que calcule el volumen de un cilindro usando la primera función."
   ]
  },
  {
   "cell_type": "code",
   "execution_count": 24,
   "metadata": {},
   "outputs": [],
   "source": [
    "def circulo(radio):\n",
    "    pi = 3.141592\n",
    "    area = pi*int(radio)**2\n",
    "    return area\n",
    "def volumen(altura,radio2):\n",
    "    volumen = radio2*altura\n",
    "    return volumen\n"
   ]
  },
  {
   "cell_type": "code",
   "execution_count": 25,
   "metadata": {},
   "outputs": [
    {
     "name": "stdout",
     "output_type": "stream",
     "text": [
      "escoja que quiere calcular el area de circulo o el volumen de un cilindro ponga el nombre de la figura: circulo\n",
      "Digita el radio del circulo: 43\n",
      "este es el area del circulo 5808.803608\n",
      "error porfavor digite si es circulo o cilindro sino no podra seguir\n"
     ]
    }
   ],
   "source": [
    "pis = input(\"escoja que quiere calcular el area de circulo o el volumen de un cilindro ponga el nombre de la figura: \")\n",
    "if pis == \"circulo\":\n",
    "    radio = int(input(\"Digita el radio del circulo: \"))\n",
    "    circulo(radio)\n",
    "    print (f\"este es el area del circulo {circulo(radio)}\")\n",
    "    \n",
    "if pis == \"cilindro\":\n",
    "    radio2 = int(input(\"digita el volumen del cilindro: \"))\n",
    "    altura = int(input(\"digita la altura del cilindro: \"))\n",
    "    volumen(altura,radio2)\n",
    "    print (f\"area del cilindro{volumen(altura,radio2)}\")\n",
    "    \n",
    "if pis != \"circulo\" or \"cilindro\":\n",
    "    print(\"error porfavor digite si es circulo o cilindro sino no podra seguir\")"
   ]
  },
  {
   "cell_type": "markdown",
   "metadata": {},
   "source": [
    "# Ejrcicio 3\n",
    "Escribir una función que reciba una muestra de números en una lista y devuelva su media."
   ]
  },
  {
   "cell_type": "code",
   "execution_count": 26,
   "metadata": {},
   "outputs": [],
   "source": [
    "def lista(lista):\n",
    "    \n",
    "    med = (lis[0] + lis[1] + lis[2] + lis[3] + lis[4])/5\n",
    "    return med"
   ]
  },
  {
   "cell_type": "code",
   "execution_count": 27,
   "metadata": {},
   "outputs": [
    {
     "name": "stdout",
     "output_type": "stream",
     "text": [
      "digita el primer numero: 65\n",
      "digita el segundo número: 76\n",
      "digita el tercer número: 24\n",
      "digita el cuarto número: 10\n",
      "digita el quinto número: 91\n",
      "Esta es su lista 65, 76, 24, 10 y 91, la media es: 53.2\n"
     ]
    }
   ],
   "source": [
    "\n",
    "lis = [0,0,0,0,0]\n",
    "\n",
    "lis[0] = int(input(\"digita el primer numero: \"))\n",
    "lis[1] = int(input(\"digita el segundo número: \"))\n",
    "lis[2] = int(input(\"digita el tercer número: \"))\n",
    "lis[3] = int(input(\"digita el cuarto número: \"))\n",
    "lis[4] = int(input(\"digita el quinto número: \"))\n",
    "\n",
    "print(f\"Esta es su lista {lis[0]}, {lis[1]}, {lis[2]}, {lis[3]} y {lis[4]}, la media es: {lista(lis)}\")\n"
   ]
  },
  {
   "cell_type": "markdown",
   "metadata": {},
   "source": [
    "# Ejercicio 4\n",
    "Escribir una función que reciba una muestra de números en una lista y devuelva otra lista con sus cuadrados."
   ]
  },
  {
   "cell_type": "code",
   "execution_count": 28,
   "metadata": {},
   "outputs": [],
   "source": [
    "def calculo_cuadrados(lista1,lista2):\n",
    "  lista2[0] = lista1[0]**2\n",
    "  lista2[1] = lista1[1]**2\n",
    "  lista2[2] = lista1[2]**2\n",
    "  lista2[3] = lista1[3]**2\n",
    "  lista2[4] = lista1[4]**2\n",
    "  return lista2"
   ]
  },
  {
   "cell_type": "code",
   "execution_count": 29,
   "metadata": {},
   "outputs": [
    {
     "name": "stdout",
     "output_type": "stream",
     "text": [
      "bienvenodo\n",
      "digite 5 numero ponga el primero: 87\n",
      "digite el segundo número: 65\n",
      "digite el tercer número: 15\n",
      "digite el cuarto número: 21\n",
      "digite el quinto número: 10\n"
     ]
    },
    {
     "data": {
      "text/plain": [
       "[7569, 4225, 225, 441, 100]"
      ]
     },
     "execution_count": 29,
     "metadata": {},
     "output_type": "execute_result"
    }
   ],
   "source": [
    "lista1 = [0,0,0,0,0]\n",
    "lista2 = [0,0,0,0,0]\n",
    "print(\"bienvenodo\")\n",
    "lista1[0] = int(input(\"digite 5 numero ponga el primero: \"))\n",
    "lista1[1] = int(input(\"digite el segundo número: \"))\n",
    "lista1[2] = int(input(\"digite el tercer número: \"))\n",
    "lista1[3] = int(input(\"digite el cuarto número: \"))\n",
    "lista1[4] = int(input(\"digite el quinto número: \"))\n",
    "\n",
    "calculo_cuadrados(lista1,lista2)\n"
   ]
  },
  {
   "cell_type": "markdown",
   "metadata": {},
   "source": [
    "# Ejercicio 5\n",
    "Escribir una función que reciba una muestra de números en una lista y devuelva un diccionario con su media, varianza y desviación típica."
   ]
  },
  {
   "cell_type": "code",
   "execution_count": 30,
   "metadata": {},
   "outputs": [],
   "source": [
    "def calculo(liseje5):\n",
    "  lismedia = (liseje5[0] + liseje5[1] + liseje5[2] + liseje5[3] + liseje5[4])/5\n",
    "  lisvar = (((liseje5[0] - lismedia)**2) + ((liseje5[1] - lismedia)**2) + ((liseje5[2] - lismedia)**2) + ((liseje5[3] - lismedia)**2) + ((liseje5[4] - lismedia)**2))/5\n",
    "  lisdes = (lisvar**(0.5))\n",
    "  dicc = {'estaesmedia':lismedia, 'estaesvarianza':lisvar, 'estaesdesviacion':lisdes}\n",
    "\n",
    "  print (f\"lamedia de la lista es: {dicc['estaesmedia']}\")\n",
    "  print (f\"la varianza es: {dicc['estaesvarianza']}\")\n",
    "  print (f\"la desviaciones: {dicc['estaesdesviacion']}\")\n",
    "\n",
    "  return"
   ]
  },
  {
   "cell_type": "code",
   "execution_count": 31,
   "metadata": {},
   "outputs": [
    {
     "name": "stdout",
     "output_type": "stream",
     "text": [
      "digitaremos 5 numeros el primer número es: 12\n",
      "el segundo número es: 76\n",
      "el tercer número es: 98\n",
      "el cuarto numero es: 08\n",
      "el quinto número es: 6\n",
      "\n",
      "lamedia de la lista es: 40.0\n",
      "la varianza es: 1524.8\n",
      "la desviaciones: 39.048687557970496\n"
     ]
    }
   ],
   "source": [
    "liseje5 = [0,0,0,0,0]\n",
    "\n",
    "liseje5[0] = int(input(\"digitaremos 5 numeros el primer número es: \"))\n",
    "liseje5[1] = int(input(\"el segundo número es: \"))\n",
    "liseje5[2] = int(input(\"el tercer número es: \"))\n",
    "liseje5[3] = int(input(\"el cuarto numero es: \"))\n",
    "liseje5[4] = int(input(\"el quinto número es: \"))\n",
    "\n",
    "print(\"\")\n",
    "\n",
    "calculo(liseje5)\n"
   ]
  },
  {
   "cell_type": "markdown",
   "metadata": {},
   "source": [
    "# Ejercicio 6\n",
    "Escribir una función que calcule el máximo común divisor de dos números y otra que calcule el mínimo común múltiplo."
   ]
  },
  {
   "cell_type": "code",
   "execution_count": 42,
   "metadata": {},
   "outputs": [],
   "source": [
    "def cal_mcd(num1,num2):\n",
    "    mcd = 1\n",
    "    if num1 % num2 == 0:\n",
    "        return num2\n",
    "    for k in range(int(num1/2), 0, -1):\n",
    "        if num1 % k == 0 and num2 % k == 0:\n",
    "            mcd = k\n",
    "            break\n",
    "    return mcd\n",
    "\n",
    "def cal_mcm(num1,num2):\n",
    "\n",
    "  if num1 > num2:\n",
    "    may = num1\n",
    "  else:\n",
    "    may = num2\n",
    "  while (may % num1 != 0) or (may % num2 != 0):\n",
    "        may += 1\n",
    "  return may"
   ]
  },
  {
   "cell_type": "code",
   "execution_count": 43,
   "metadata": {},
   "outputs": [
    {
     "name": "stdout",
     "output_type": "stream",
     "text": [
      "Digite el primer número: 12\n",
      "Digite el segundo número: 45\n",
      "el maximo común divisor es: 3\n",
      "el mínimo común múltiplo es: 180\n"
     ]
    }
   ],
   "source": [
    "num1 = int(input(\"Digite el primer número: \"))\n",
    "num2 = int(input(\"Digite el segundo número: \"))\n",
    "\n",
    "print(f\"el maximo común divisor es: {cal_mcd(num1,num2)}\")\n",
    "print(f\"el mínimo común múltiplo es: {cal_mcm(num1,num2)}\")\n"
   ]
  },
  {
   "cell_type": "markdown",
   "metadata": {},
   "source": [
    "# Ejercicio7\n",
    "Escribir una función que convierta un número decimal en binario y otra que convierta un número binario en decimal."
   ]
  },
  {
   "cell_type": "code",
   "execution_count": 44,
   "metadata": {},
   "outputs": [],
   "source": [
    "def nu_bin(numer1):\n",
    "    total_bin = \"{0:b}\".format(numer1)\n",
    "    return total_bin\n",
    "\n",
    "def dec(numb):\n",
    "    total_dec = int(str(numer2), 2)\n",
    "    return total_dec\n"
   ]
  },
  {
   "cell_type": "code",
   "execution_count": 46,
   "metadata": {},
   "outputs": [
    {
     "name": "stdout",
     "output_type": "stream",
     "text": [
      "convertidor de numeros\n",
      "Digita un numero decimal: 86\n",
      "Digita un número binario: 10001000\n",
      "este es el numero en binario: 1010110\n",
      "este es el numero en decimal: 136\n"
     ]
    }
   ],
   "source": [
    "print(\"convertidor de numeros\")\n",
    "numer1 = int(input(\"Digita un numero decimal: \"))\n",
    "numer2 = int(input(\"Digita un número binario: \"))\n",
    "print(f\"este es el numero en binario: {nu_bin(numer1)}\")\n",
    "print(f\"este es el numero en decimal: {dec(numer2)}\")\n"
   ]
  },
  {
   "cell_type": "markdown",
   "metadata": {},
   "source": [
    "# Ejercicio 8\n",
    "\n",
    "Escribir un programa que reciba una cadena de caracteres y devuelva un diccionario con cada palabra que contiene y su frecuencia. Escribir otra función que reciba el diccionario generado con la función anterior y devuelva una tupla con la palabra más repetida y su frecuencia."
   ]
  },
  {
   "cell_type": "code",
   "execution_count": 15,
   "metadata": {},
   "outputs": [
    {
     "name": "stdout",
     "output_type": "stream",
     "text": [
      "El diccionario es:  {'Cuando': 1, 'cuentes': 1, 'cuentos': 4, 'cuenta': 1, 'cuantos': 2, 'cuentas,': 1, 'porque': 1, 'si': 1, 'no': 1, 'cuentas': 2, 'nunca': 1, 'sabrás': 1, 'cuántos': 1, 'sabes': 1, 'contar': 1}\n",
      "La tupla es:  ('cuentos', 4)\n"
     ]
    }
   ],
   "source": [
    "def dicciconario(text):\n",
    "    text = text.split()\n",
    "    word1 = {}\n",
    "    for i in text:\n",
    "        if i in word1:\n",
    "            word1[i] += 1\n",
    "        else:\n",
    "            word1[i] = 1\n",
    "    return word1\n",
    "\n",
    "# Se define la función de la tupla que almacena la palabra mas frecuente\n",
    "def tupla(word1):\n",
    "    maxword = ''\n",
    "    maxfreq = 0\n",
    "    for word2, freq in word1.items():\n",
    "        if freq > maxfreq:\n",
    "            maxword = word2\n",
    "            maxfreq = freq\n",
    "    return maxword, maxfreq"
   ]
  },
  {
   "cell_type": "code",
   "execution_count": 18,
   "metadata": {},
   "outputs": [
    {
     "name": "stdout",
     "output_type": "stream",
     "text": [
      "El diccionario es:  {'Cuando': 1, 'cuentes': 1, 'cuentos': 4, 'cuenta': 1, 'cuantos': 2, 'cuentas,': 1, 'porque': 1, 'si': 1, 'no': 1, 'cuentas': 2, 'nunca': 1, 'sabrás': 1, 'cuántos': 1, 'sabes': 1, 'contar': 1}\n",
      "La tupla es:  ('cuentos', 4)\n"
     ]
    }
   ],
   "source": [
    "texto = \"Cuando cuentes cuentos cuenta cuantos cuentos cuentas, porque si no cuentas cuantos cuentos cuentas nunca sabrás cuántos cuentos sabes contar\"\n",
    "print(\"El diccionario es: \", diccionario(texto))\n",
    "print(\"La tupla es: \", tupla(diccionario(texto)))"
   ]
  },
  {
   "cell_type": "code",
   "execution_count": null,
   "metadata": {},
   "outputs": [],
   "source": []
  }
 ],
 "metadata": {
  "kernelspec": {
   "display_name": "Python 3",
   "language": "python",
   "name": "python3"
  },
  "language_info": {
   "codemirror_mode": {
    "name": "ipython",
    "version": 3
   },
   "file_extension": ".py",
   "mimetype": "text/x-python",
   "name": "python",
   "nbconvert_exporter": "python",
   "pygments_lexer": "ipython3",
   "version": "3.7.4"
  }
 },
 "nbformat": 4,
 "nbformat_minor": 2
}
